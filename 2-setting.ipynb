{
 "cells": [
  {
   "cell_type": "markdown",
   "metadata": {},
   "source": [
    "<font color = 'red'>setting.py</font>  \n",
    "<u>在INSTALLED_APPS加入APP</u>  "
   ]
  },
  {
   "cell_type": "code",
   "execution_count": null,
   "metadata": {},
   "outputs": [],
   "source": [
    "INSTALLED_APPS = [  \n",
    "    \"django.contrib.admin\",  \n",
    "    \"django.contrib.auth\",  \n",
    "    \"django.contrib.contenttypes\",  \n",
    "    \"django.contrib.sessions\",  \n",
    "    \"django.contrib.messages\",  \n",
    "    \"django.contrib.staticfiles\",  \n",
    "    '應用程式名稱', #*\n",
    "]"
   ]
  },
  {
   "cell_type": "markdown",
   "metadata": {},
   "source": [
    "<u>設定Template路徑</u>"
   ]
  },
  {
   "cell_type": "code",
   "execution_count": null,
   "metadata": {},
   "outputs": [],
   "source": [
    "TEMPLATES = [\n",
    "    {\n",
    "        \"BACKEND\": \"django.template.backends.django.DjangoTemplates\",\n",
    "        \"DIRS\": [BASE_DIR / 'templates'], #加上templates路徑\n",
    "        \"APP_DIRS\": True,\n",
    "        \"OPTIONS\": {\n",
    "            \"context_processors\": [\n",
    "                \"django.template.context_processors.debug\",\n",
    "                \"django.template.context_processors.request\",\n",
    "                \"django.contrib.auth.context_processors.auth\",\n",
    "                \"django.contrib.messages.context_processors.messages\",\n",
    "            ],\n",
    "        },\n",
    "    },\n",
    "]"
   ]
  },
  {
   "cell_type": "markdown",
   "metadata": {},
   "source": [
    "<u>設定語系和時區</u>  \n",
    "\n"
   ]
  },
  {
   "cell_type": "code",
   "execution_count": null,
   "metadata": {},
   "outputs": [],
   "source": [
    "LANGUAGE_CODE = \"zh-hant\"\n",
    "\n",
    "TIME_ZONE = \"Asia/Taipei\""
   ]
  },
  {
   "cell_type": "markdown",
   "metadata": {},
   "source": [
    "<u>設定static靜態檔的路徑</u>"
   ]
  },
  {
   "cell_type": "code",
   "execution_count": null,
   "metadata": {},
   "outputs": [],
   "source": [
    "STATIC_URL = \"static/\"\n",
    "STATICFILES_DIRS = [\n",
    "    os.path.join(BASE_DIR,'static')\n",
    "]"
   ]
  }
 ],
 "metadata": {
  "kernelspec": {
   "display_name": "Python 3",
   "language": "python",
   "name": "python3"
  },
  "language_info": {
   "codemirror_mode": {
    "name": "ipython",
    "version": 3
   },
   "file_extension": ".py",
   "mimetype": "text/x-python",
   "name": "python",
   "nbconvert_exporter": "python",
   "pygments_lexer": "ipython3",
   "version": "3.12.2"
  }
 },
 "nbformat": 4,
 "nbformat_minor": 2
}
