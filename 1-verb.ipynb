{
 "cells": [
  {
   "cell_type": "markdown",
   "metadata": {},
   "source": [
    "<h4> 建立Django專案"
   ]
  },
  {
   "cell_type": "markdown",
   "metadata": {},
   "source": [
    "> cd c:/選擇資料夾\n"
   ]
  },
  {
   "cell_type": "markdown",
   "metadata": {},
   "source": [
    "<u>啟動虛擬環境</u>\n",
    "> Script/activate"
   ]
  },
  {
   "cell_type": "markdown",
   "metadata": {},
   "source": [
    "<u>建立專案</u>  \n",
    "> django-admin startproject 專案名稱  \n",
    "> cd 專案名稱"
   ]
  },
  {
   "cell_type": "markdown",
   "metadata": {},
   "source": [
    "<u>建立Application應用程式</u>  \n",
    "> python manage.py startapp 應用程式名稱\n"
   ]
  },
  {
   "cell_type": "markdown",
   "metadata": {},
   "source": [
    "<u>建立templates目錄</u>  \n",
    "ps : 放置模板的資料夾  \n",
    "> md templates"
   ]
  },
  {
   "cell_type": "markdown",
   "metadata": {},
   "source": [
    "<u>建立static目錄</u>  \n",
    "> md static"
   ]
  },
  {
   "cell_type": "markdown",
   "metadata": {},
   "source": [
    "<u>模型與資料庫同步指令</u>  \n",
    "> python manage.py makemigrations  \n",
    "> python manage.py migrate"
   ]
  }
 ],
 "metadata": {
  "language_info": {
   "name": "python"
  }
 },
 "nbformat": 4,
 "nbformat_minor": 2
}
